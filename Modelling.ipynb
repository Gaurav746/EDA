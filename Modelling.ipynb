{
 "cells": [
  {
   "cell_type": "code",
   "execution_count": 1,
   "metadata": {},
   "outputs": [],
   "source": [
    "import numpy as np\n",
    "import pandas as pd\n",
    "from nltk.tokenize import sent_tokenize\n",
    "from nltk.corpus import stopwords\n",
    "import networkx as nx\n",
    "from sklearn.metrics.pairwise import cosine_similarity"
   ]
  },
  {
   "cell_type": "code",
   "execution_count": 2,
   "metadata": {},
   "outputs": [],
   "source": [
    "df = pd.read_csv('processed_book_data.csv')"
   ]
  },
  {
   "cell_type": "code",
   "execution_count": null,
   "metadata": {},
   "outputs": [],
   "source": [
    "df.drop(8,inplace=True)\n",
    "df = df.iloc[:,1:]"
   ]
  },
  {
   "cell_type": "code",
   "execution_count": 3,
   "metadata": {},
   "outputs": [],
   "source": [
    "def generate_embeddings(text):\n",
    "    sentences = []\n",
    "    sentences.append(sent_tokenize(text))\n",
    "    sentences = [y for x in sentences for y in x]\n",
    "    word_embeddings = {}\n",
    "    f = open('glove.6B.100d.txt', encoding='utf-8')\n",
    "    for line in f:\n",
    "        values = line.split()\n",
    "        word = values[0]\n",
    "        coefs = np.asarray(values[1:], dtype = 'float32')\n",
    "        word_embeddings[word] = coefs\n",
    "    f.close()\n",
    "    clean_sentences = pd.Series(sentences).str.replace(\"[^a-zA-Z]\", \" \")\n",
    "    clean_sentences = [s.lower() for s in clean_sentences]\n",
    "    return sentences, word_embeddings, clean_sentences   "
   ]
  },
  {
   "cell_type": "code",
   "execution_count": 4,
   "metadata": {},
   "outputs": [],
   "source": [
    "def generate_vectors(word_embeddings, clean_sentences):\n",
    "    sentence_vectors = []\n",
    "    for i in clean_sentences:\n",
    "        if len(i) != 0:\n",
    "            v = sum([word_embeddings.get(w, np.zeros((100,))) for w in i.split()])/(len(i.split())+0.001)\n",
    "        else:\n",
    "            v = np.zeros((100,))\n",
    "        sentence_vectors.append(v)\n",
    "    return sentence_vectors"
   ]
  },
  {
   "cell_type": "code",
   "execution_count": 5,
   "metadata": {},
   "outputs": [],
   "source": [
    "# Finding Similarity to generate summary\n",
    "def generate_similarity_matrix(sentence_vectors):\n",
    "    sim_mat = np.zeros([len(sentences), len(sentences)])\n",
    "    for i in range(len(sentences)):\n",
    "        for j in range(len(sentences)):\n",
    "            if i != j:\n",
    "                sim_mat[i][j] = cosine_similarity(sentence_vectors[i].reshape(1,100), sentence_vectors[j].reshape(1,100))[0,0]\n",
    "    return sim_mat"
   ]
  },
  {
   "cell_type": "code",
   "execution_count": 27,
   "metadata": {},
   "outputs": [],
   "source": [
    "# Using PageRank algorithm to find sort sentences based on most links (similarity)\n",
    "book_summary = []\n",
    "def generate_summary(sim_mat):\n",
    "    summary = []\n",
    "    #convert the sim_mat similarity matrix into the graph, the nodes in this graph will represent the sentences and the edges will represent \n",
    "    # the similarity scores between the sentences:\n",
    "    nx_graph = nx.from_numpy_array(sim_mat)\n",
    "    scores = nx.pagerank(nx_graph, max_iter = 600)\n",
    "    # Summarizing text\n",
    "    ranked_sentences = sorted(((scores[i],s) for i,s in enumerate(sentences)), reverse=True)\n",
    "    for i in range(2):\n",
    "        summary.append(ranked_sentences[i][1])\n",
    "    sdf = pd.DataFrame(summary, columns=['summary'])\n",
    "    final_summary = ' '.join(sdf['summary'])\n",
    "    book_summary.append(final_summary)\n",
    "    # return book_summary"
   ]
  },
  {
   "cell_type": "code",
   "execution_count": 26,
   "metadata": {},
   "outputs": [],
   "source": [
    "df.reset_index(inplace=True)\n",
    "df = df.iloc[:,1:]"
   ]
  },
  {
   "cell_type": "code",
   "execution_count": 28,
   "metadata": {},
   "outputs": [
    {
     "name": "stderr",
     "output_type": "stream",
     "text": [
      "<ipython-input-3-65ed9f8ebb60>:13: FutureWarning: The default value of regex will change from True to False in a future version.\n",
      "  clean_sentences = pd.Series(sentences).str.replace(\"[^a-zA-Z]\", \" \")\n",
      "<ipython-input-3-65ed9f8ebb60>:13: FutureWarning: The default value of regex will change from True to False in a future version.\n",
      "  clean_sentences = pd.Series(sentences).str.replace(\"[^a-zA-Z]\", \" \")\n",
      "<ipython-input-3-65ed9f8ebb60>:13: FutureWarning: The default value of regex will change from True to False in a future version.\n",
      "  clean_sentences = pd.Series(sentences).str.replace(\"[^a-zA-Z]\", \" \")\n",
      "<ipython-input-3-65ed9f8ebb60>:13: FutureWarning: The default value of regex will change from True to False in a future version.\n",
      "  clean_sentences = pd.Series(sentences).str.replace(\"[^a-zA-Z]\", \" \")\n",
      "<ipython-input-3-65ed9f8ebb60>:13: FutureWarning: The default value of regex will change from True to False in a future version.\n",
      "  clean_sentences = pd.Series(sentences).str.replace(\"[^a-zA-Z]\", \" \")\n",
      "<ipython-input-3-65ed9f8ebb60>:13: FutureWarning: The default value of regex will change from True to False in a future version.\n",
      "  clean_sentences = pd.Series(sentences).str.replace(\"[^a-zA-Z]\", \" \")\n",
      "<ipython-input-3-65ed9f8ebb60>:13: FutureWarning: The default value of regex will change from True to False in a future version.\n",
      "  clean_sentences = pd.Series(sentences).str.replace(\"[^a-zA-Z]\", \" \")\n",
      "<ipython-input-3-65ed9f8ebb60>:13: FutureWarning: The default value of regex will change from True to False in a future version.\n",
      "  clean_sentences = pd.Series(sentences).str.replace(\"[^a-zA-Z]\", \" \")\n",
      "<ipython-input-3-65ed9f8ebb60>:13: FutureWarning: The default value of regex will change from True to False in a future version.\n",
      "  clean_sentences = pd.Series(sentences).str.replace(\"[^a-zA-Z]\", \" \")\n",
      "<ipython-input-3-65ed9f8ebb60>:13: FutureWarning: The default value of regex will change from True to False in a future version.\n",
      "  clean_sentences = pd.Series(sentences).str.replace(\"[^a-zA-Z]\", \" \")\n",
      "<ipython-input-3-65ed9f8ebb60>:13: FutureWarning: The default value of regex will change from True to False in a future version.\n",
      "  clean_sentences = pd.Series(sentences).str.replace(\"[^a-zA-Z]\", \" \")\n",
      "<ipython-input-3-65ed9f8ebb60>:13: FutureWarning: The default value of regex will change from True to False in a future version.\n",
      "  clean_sentences = pd.Series(sentences).str.replace(\"[^a-zA-Z]\", \" \")\n",
      "<ipython-input-3-65ed9f8ebb60>:13: FutureWarning: The default value of regex will change from True to False in a future version.\n",
      "  clean_sentences = pd.Series(sentences).str.replace(\"[^a-zA-Z]\", \" \")\n"
     ]
    }
   ],
   "source": [
    "for i in range(len(df)):\n",
    "    sentences, word_embeddings, clean_sentences = generate_embeddings(df['Clean Text'].loc[i])\n",
    "    sentence_vectors = generate_vectors(word_embeddings, clean_sentences)\n",
    "    sim_mat = generate_similarity_matrix(sentence_vectors)\n",
    "    generate_summary(sim_mat)"
   ]
  },
  {
   "cell_type": "code",
   "execution_count": 34,
   "metadata": {},
   "outputs": [
    {
     "data": {
      "text/plain": [
       "array([-0.1328   ,  0.92261  ,  0.93544  , -0.63118  ,  0.50402  ,\n",
       "       -0.30338  , -0.55406  ,  0.071319 , -0.13877  ,  0.11294  ,\n",
       "       -0.30848  , -0.35173  ,  0.27514  , -0.015935 , -0.19586  ,\n",
       "       -0.26719  ,  0.1023   , -1.127    , -0.35836  ,  0.80409  ,\n",
       "       -0.12859  ,  0.15648  ,  0.57618  , -0.21437  , -0.029065 ,\n",
       "        0.49854  , -0.27588  , -0.051191 , -0.23875  ,  0.24421  ,\n",
       "        0.22476  ,  0.070125 ,  0.50378  , -1.1223   ,  0.4764   ,\n",
       "       -0.06986  , -0.027617 ,  0.7853   , -0.68022  , -0.036379 ,\n",
       "        0.37911  , -0.93087  , -0.011035 , -0.082644 , -0.27459  ,\n",
       "        0.09938  , -0.26818  ,  0.29252  ,  0.62947  , -0.22741  ,\n",
       "       -0.6275   ,  0.031109 , -0.054661 ,  0.16065  , -0.38845  ,\n",
       "       -1.9376   , -0.10413  , -0.64834  ,  1.4837   , -0.13894  ,\n",
       "       -0.049802 ,  0.55547  , -0.21925  , -0.90887  ,  1.4822   ,\n",
       "       -0.6478   ,  1.1769   ,  0.1142   ,  0.33713  , -0.7661   ,\n",
       "        0.37561  ,  0.0037597, -0.28029  ,  0.12944  , -0.17194  ,\n",
       "       -0.10839  , -0.13159  , -0.7647   , -0.17149  ,  0.98379  ,\n",
       "        0.83413  ,  0.53028  , -0.46108  , -0.59009  , -0.24216  ,\n",
       "        0.18024  , -0.28845  , -0.40467  , -0.65468  , -0.79142  ,\n",
       "        0.33132  , -0.52434  , -0.26786  , -0.53644  , -1.1112   ,\n",
       "        0.29879  , -0.9842   , -0.70996  , -0.50225  ,  0.21959  ],\n",
       "      dtype=float32)"
      ]
     },
     "execution_count": 34,
     "metadata": {},
     "output_type": "execute_result"
    }
   ],
   "source": [
    "word_embeddings['rich']"
   ]
  },
  {
   "cell_type": "code",
   "execution_count": 33,
   "metadata": {},
   "outputs": [
    {
     "data": {
      "text/plain": [
       "'” sometimes physically removing situation help maintain boundary you replenish physically emotionally spiritually given limit jesus often or remove get away danger put limit evil the bible urge u separate continue hurt u create safe place removing situation also cause one left behind experience loss fellowship may lead changed behavior matt 18:17–18 1 cor 5:11–13 01.boundaries 5/14/01 12:37 pm page 34 34 boundaries when relationship abusive many time way ﬁnally show person boundary real create s'"
      ]
     },
     "execution_count": 33,
     "metadata": {},
     "output_type": "execute_result"
    }
   ],
   "source": [
    "df['Summary'] = book_summary\n",
    "book_summary[2][:500]"
   ]
  },
  {
   "cell_type": "code",
   "execution_count": 30,
   "metadata": {},
   "outputs": [
    {
     "data": {
      "text/html": [
       "<div>\n",
       "<style scoped>\n",
       "    .dataframe tbody tr th:only-of-type {\n",
       "        vertical-align: middle;\n",
       "    }\n",
       "\n",
       "    .dataframe tbody tr th {\n",
       "        vertical-align: top;\n",
       "    }\n",
       "\n",
       "    .dataframe thead th {\n",
       "        text-align: right;\n",
       "    }\n",
       "</style>\n",
       "<table border=\"1\" class=\"dataframe\">\n",
       "  <thead>\n",
       "    <tr style=\"text-align: right;\">\n",
       "      <th></th>\n",
       "      <th>Title</th>\n",
       "      <th>Author</th>\n",
       "      <th>Number of Pages</th>\n",
       "      <th>Text</th>\n",
       "      <th>Clean Text</th>\n",
       "      <th>Summary</th>\n",
       "    </tr>\n",
       "  </thead>\n",
       "  <tbody>\n",
       "    <tr>\n",
       "      <th>0</th>\n",
       "      <td>Rich Dad Poor Dad</td>\n",
       "      <td>Robert Kiyosaki and Sharon Lechter</td>\n",
       "      <td>241</td>\n",
       "      <td>What The Rich Teach Their Kids About Money – \\...</td>\n",
       "      <td>what the rich teach their kids about money – t...</td>\n",
       "      <td>” but one line i thought truthful it come scen...</td>\n",
       "    </tr>\n",
       "    <tr>\n",
       "      <th>1</th>\n",
       "      <td>An Imaginary Tale_ The Story of i the square r...</td>\n",
       "      <td>Paul J. Nahin</td>\n",
       "      <td>297</td>\n",
       "      <td>An Imaginary Tale\\n\\n\f\fAn Imaginary Tale\\n\\n...</td>\n",
       "      <td>an imaginary tale an imaginary tale the story ...</td>\n",
       "      <td>speciﬁc limit partial fraction expan- sion sid...</td>\n",
       "    </tr>\n",
       "    <tr>\n",
       "      <th>2</th>\n",
       "      <td>Boundaries_ When to Say Yes, How to Say No to ...</td>\n",
       "      <td>Henry Cloud, John Townsend</td>\n",
       "      <td>357</td>\n",
       "      <td>Resources by Henry Cloud and John Townsend\\n\\...</td>\n",
       "      <td>resources henry cloud john townsend boundaries...</td>\n",
       "      <td>” sometimes physically removing situation help...</td>\n",
       "    </tr>\n",
       "    <tr>\n",
       "      <th>3</th>\n",
       "      <td>Evil_ The Science Behind Humanity’s Dark Side</td>\n",
       "      <td>Julia Shaw</td>\n",
       "      <td>221</td>\n",
       "      <td>Also\\tby\\tDr.\\tJulia\\tShaw\\n\\nThe\\tMemory\\tIl...</td>\n",
       "      <td>also dr. julia shaw the memory illusion copyri...</td>\n",
       "      <td>“ sometimes one take action even one know mora...</td>\n",
       "    </tr>\n",
       "    <tr>\n",
       "      <th>4</th>\n",
       "      <td>Fallen_Angels_and_the_Origins_of_Evil_Elizabet...</td>\n",
       "      <td>Elizabeth Clare Prophet</td>\n",
       "      <td>455</td>\n",
       "      <td>\\n\\n1 \\n\\n\f \\n\\n \\n\\n \\n\\n2 \\n\\n \\n\\n\f \\n\\n \\...</td>\n",
       "      <td>1    2       3 fallen angels and the origins ...</td>\n",
       "      <td>” 25 perhaps paul quote book enoch indirectly ...</td>\n",
       "    </tr>\n",
       "    <tr>\n",
       "      <th>5</th>\n",
       "      <td>Harry Potter ve Ateş Kadehi - J. K. Rowling</td>\n",
       "      <td>J.K. Rowling</td>\n",
       "      <td>912</td>\n",
       "      <td>Harry Potter\\n\\nve\\n\\nAteş Kadehi\\n\\nJ. K. Ro...</td>\n",
       "      <td>harry potter  ateş kadehi j. k. rowling 2000 b...</td>\n",
       "      <td>t. düşünmüyor gibiydi viktor krum'la koyu bir ...</td>\n",
       "    </tr>\n",
       "    <tr>\n",
       "      <th>6</th>\n",
       "      <td>Living in the Light</td>\n",
       "      <td>Shakti Gawain</td>\n",
       "      <td>258</td>\n",
       "      <td>LIL Quark-FM  1/22/01  8:42 AM  Page i\\n\\nLIV...</td>\n",
       "      <td>lil quark-fm 1/22/01 8:42 am page living the l...</td>\n",
       "      <td>” it ’ fulfillment ’ moment count in channel e...</td>\n",
       "    </tr>\n",
       "    <tr>\n",
       "      <th>7</th>\n",
       "      <td>See You At The Top</td>\n",
       "      <td>Zig Ziglar</td>\n",
       "      <td>386</td>\n",
       "      <td>I BELIEVE \\n\\nYou  can get everything  in  li...</td>\n",
       "      <td>i believe you get everything life want help en...</td>\n",
       "      <td>tends create feeling inferiority when commenti...</td>\n",
       "    </tr>\n",
       "    <tr>\n",
       "      <th>8</th>\n",
       "      <td>Start Where You Are_ A Guide to Compassionate ...</td>\n",
       "      <td>Pema Chodron</td>\n",
       "      <td>242</td>\n",
       "      <td>This page intentionally left blank.\\nThis pag...</td>\n",
       "      <td>this page intentionally left blank this page i...</td>\n",
       "      <td>” that turned major turning point life be- cau...</td>\n",
       "    </tr>\n",
       "    <tr>\n",
       "      <th>9</th>\n",
       "      <td>Subliminal Psychology 101_ How to Stealthily P...</td>\n",
       "      <td>Michael Pace</td>\n",
       "      <td>141</td>\n",
       "      <td>Subliminal Psychology 101\\nHow to Stealthily ...</td>\n",
       "      <td>subliminal psychology 101 how stealthily penet...</td>\n",
       "      <td>” say three time anchoring you start train usi...</td>\n",
       "    </tr>\n",
       "    <tr>\n",
       "      <th>10</th>\n",
       "      <td>The Dark Side of Personality_ Science and Prac...</td>\n",
       "      <td>Virgil Zeiglar-Hill, David K. Marcus</td>\n",
       "      <td>384</td>\n",
       "      <td>THE DARK SIDE  OF PERSONALITY\f\fTHE DARK SIDE ...</td>\n",
       "      <td>the dark side of personality the dark side of ...</td>\n",
       "      <td>washington dc american psychiatric press.simon...</td>\n",
       "    </tr>\n",
       "    <tr>\n",
       "      <th>11</th>\n",
       "      <td>The Time Machine</td>\n",
       "      <td>H. G. Wells</td>\n",
       "      <td>120</td>\n",
       "      <td>The Time Machine  \\n\\nBy H. G. Wells\\n\\n\fPubli...</td>\n",
       "      <td>the time machine by h. g. wells published plan...</td>\n",
       "      <td>’ he passed hand space machine ‘ you see ’ sai...</td>\n",
       "    </tr>\n",
       "    <tr>\n",
       "      <th>12</th>\n",
       "      <td>World of Warcraft - Arthas Rise of the Lich king</td>\n",
       "      <td>Christie Golden</td>\n",
       "      <td>212</td>\n",
       "      <td>ORGANIZED BY CLOCKLI\\r\\n\\n1\\n\\n\fWorld of WarCr...</td>\n",
       "      <td>organized by clockli 1 world warcraft arthas r...</td>\n",
       "      <td>” the men laughed obligingly prepared rest mea...</td>\n",
       "    </tr>\n",
       "  </tbody>\n",
       "</table>\n",
       "</div>"
      ],
      "text/plain": [
       "                                                Title  \\\n",
       "0                                   Rich Dad Poor Dad   \n",
       "1   An Imaginary Tale_ The Story of i the square r...   \n",
       "2   Boundaries_ When to Say Yes, How to Say No to ...   \n",
       "3       Evil_ The Science Behind Humanity’s Dark Side   \n",
       "4   Fallen_Angels_and_the_Origins_of_Evil_Elizabet...   \n",
       "5         Harry Potter ve Ateş Kadehi - J. K. Rowling   \n",
       "6                                 Living in the Light   \n",
       "7                                  See You At The Top   \n",
       "8   Start Where You Are_ A Guide to Compassionate ...   \n",
       "9   Subliminal Psychology 101_ How to Stealthily P...   \n",
       "10  The Dark Side of Personality_ Science and Prac...   \n",
       "11                                   The Time Machine   \n",
       "12   World of Warcraft - Arthas Rise of the Lich king   \n",
       "\n",
       "                                  Author  Number of Pages  \\\n",
       "0     Robert Kiyosaki and Sharon Lechter              241   \n",
       "1                          Paul J. Nahin              297   \n",
       "2             Henry Cloud, John Townsend              357   \n",
       "3                             Julia Shaw              221   \n",
       "4                Elizabeth Clare Prophet              455   \n",
       "5                           J.K. Rowling              912   \n",
       "6                          Shakti Gawain              258   \n",
       "7                             Zig Ziglar              386   \n",
       "8                           Pema Chodron              242   \n",
       "9                           Michael Pace              141   \n",
       "10  Virgil Zeiglar-Hill, David K. Marcus              384   \n",
       "11                           H. G. Wells              120   \n",
       "12                       Christie Golden              212   \n",
       "\n",
       "                                                 Text  \\\n",
       "0   What The Rich Teach Their Kids About Money – \\...   \n",
       "1   \n",
       "\n",
       "An Imaginary Tale\\n\\n\n",
       "\n",
       "An Imaginary Tale\\n\\n...   \n",
       "2   \n",
       "Resources by Henry Cloud and John Townsend\\n\\...   \n",
       "3   \n",
       "Also\\tby\\tDr.\\tJulia\\tShaw\\n\\nThe\\tMemory\\tIl...   \n",
       "4    \\n\\n1 \\n\\n\n",
       " \\n\\n \\n\\n \\n\\n2 \\n\\n \\n\\n\n",
       " \\n\\n \\...   \n",
       "5   \n",
       "Harry Potter\\n\\nve\\n\\nAteş Kadehi\\n\\nJ. K. Ro...   \n",
       "6   \n",
       "LIL Quark-FM  1/22/01  8:42 AM  Page i\\n\\nLIV...   \n",
       "7   \n",
       "I BELIEVE \\n\\nYou  can get everything  in  li...   \n",
       "8   \n",
       "This page intentionally left blank.\\nThis pag...   \n",
       "9   \n",
       "Subliminal Psychology 101\\nHow to Stealthily ...   \n",
       "10  \n",
       "THE DARK SIDE  OF PERSONALITY\n",
       "\n",
       "THE DARK SIDE ...   \n",
       "11  The Time Machine  \\n\\nBy H. G. Wells\\n\\n\n",
       "Publi...   \n",
       "12  ORGANIZED BY CLOCKLI\\r\\n\\n1\\n\\n\n",
       "World of WarCr...   \n",
       "\n",
       "                                           Clean Text  \\\n",
       "0   what the rich teach their kids about money – t...   \n",
       "1   an imaginary tale an imaginary tale the story ...   \n",
       "2   resources henry cloud john townsend boundaries...   \n",
       "3   also dr. julia shaw the memory illusion copyri...   \n",
       "4    1    2       3 fallen angels and the origins ...   \n",
       "5   harry potter  ateş kadehi j. k. rowling 2000 b...   \n",
       "6   lil quark-fm 1/22/01 8:42 am page living the l...   \n",
       "7   i believe you get everything life want help en...   \n",
       "8   this page intentionally left blank this page i...   \n",
       "9   subliminal psychology 101 how stealthily penet...   \n",
       "10  the dark side of personality the dark side of ...   \n",
       "11  the time machine by h. g. wells published plan...   \n",
       "12  organized by clockli 1 world warcraft arthas r...   \n",
       "\n",
       "                                              Summary  \n",
       "0   ” but one line i thought truthful it come scen...  \n",
       "1   speciﬁc limit partial fraction expan- sion sid...  \n",
       "2   ” sometimes physically removing situation help...  \n",
       "3   “ sometimes one take action even one know mora...  \n",
       "4   ” 25 perhaps paul quote book enoch indirectly ...  \n",
       "5   t. düşünmüyor gibiydi viktor krum'la koyu bir ...  \n",
       "6   ” it ’ fulfillment ’ moment count in channel e...  \n",
       "7   tends create feeling inferiority when commenti...  \n",
       "8   ” that turned major turning point life be- cau...  \n",
       "9   ” say three time anchoring you start train usi...  \n",
       "10  washington dc american psychiatric press.simon...  \n",
       "11  ’ he passed hand space machine ‘ you see ’ sai...  \n",
       "12  ” the men laughed obligingly prepared rest mea...  "
      ]
     },
     "execution_count": 30,
     "metadata": {},
     "output_type": "execute_result"
    }
   ],
   "source": [
    "df"
   ]
  },
  {
   "cell_type": "code",
   "execution_count": 31,
   "metadata": {},
   "outputs": [
    {
     "data": {
      "text/plain": [
       "(250364, 13155)"
      ]
     },
     "execution_count": 31,
     "metadata": {},
     "output_type": "execute_result"
    }
   ],
   "source": [
    "len(df['Clean Text'][0]), len(df['Summary'][0])"
   ]
  },
  {
   "cell_type": "code",
   "execution_count": 32,
   "metadata": {},
   "outputs": [],
   "source": [
    "# df.to_csv('Summary.csv', header=None)"
   ]
  }
 ],
 "metadata": {
  "interpreter": {
   "hash": "ac59ebe37160ed0dfa835113d9b8498d9f09ceb179beaac4002f036b9467c963"
  },
  "kernelspec": {
   "display_name": "Python 3.9.5 64-bit",
   "name": "python3"
  },
  "language_info": {
   "codemirror_mode": {
    "name": "ipython",
    "version": 3
   },
   "file_extension": ".py",
   "mimetype": "text/x-python",
   "name": "python",
   "nbconvert_exporter": "python",
   "pygments_lexer": "ipython3",
   "version": "3.9.5"
  },
  "orig_nbformat": 4
 },
 "nbformat": 4,
 "nbformat_minor": 2
}
